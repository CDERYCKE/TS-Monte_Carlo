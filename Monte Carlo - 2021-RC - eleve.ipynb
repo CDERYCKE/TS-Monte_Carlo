{
 "cells": [
  {
   "cell_type": "markdown",
   "metadata": {},
   "source": [
    "# Utilisation de la méthode de Monte Carlo pour estimer une incertitude :"
   ]
  },
  {
   "cell_type": "markdown",
   "metadata": {},
   "source": [
    "<div class=\"alert alert-info\" role=\"alert\">\n",
    "  <strong>Travail à faire sur le notebook : </strong> <br>\n",
    "    Pour les cellules suivantes, appuyez sur shift entrée pour lancer le code Python contenu chaque cellule\n",
    "</div>"
   ]
  },
  {
   "cell_type": "markdown",
   "metadata": {},
   "source": [
    "## 1- Incertitude sur une constante de temps :\n",
    "\n",
    "Lors du choix des composants pour étudier la charge ou la décharge d'un condensateur, on constate que le fabricant fournit les valeurs avec une incertitude.\n",
    "\n",
    "Les incertitudes associées à chaque donnée sont ainsi :  \n",
    "\n",
    "La valeur de la résistance R = 100 Ω du conducteur ohmique est connue à 5 %  près soit R = (100 ± 5) Ω (incertitude notée ici U_R)  \n",
    "La valeur de la capacité C = 100 µF du du condensateur est connue à 5 %  près soit C = (100 ± 5) µF (incertitude notée ici U_C)"
   ]
  },
  {
   "cell_type": "markdown",
   "metadata": {},
   "source": [
    "On peut calculer la constante de temps : $$\\tau = R \\times C$$"
   ]
  },
  {
   "cell_type": "markdown",
   "metadata": {},
   "source": [
    "<div class=\"alert alert-warning\" role=\"alert\">\n",
    "    <strong> Compléter le code ci-dessous pour déterminer la constante de temps : </strong> <br>\n",
    "    --> Compléter la fiche réponse.\n",
    "    \n",
    "</div>"
   ]
  },
  {
   "cell_type": "code",
   "execution_count": null,
   "metadata": {},
   "outputs": [],
   "source": [
    "R = 100.0 # valeur de la résistance en ohm\n",
    "U_R = 5.0 # incertitude sur la résistance\n",
    "C = 100.0E-6 # valeur de la capacité en farad\n",
    "U_C = 5.0E-6 # incertitude sur la capacité\n",
    "\n",
    "tau= ????????? # calcul de la constante de temps\n",
    "print(\"La constante de temps vaut : \",tau,\" s\")"
   ]
  },
  {
   "cell_type": "markdown",
   "metadata": {},
   "source": [
    "Normalement, ce n'était pas trop dur :-)"
   ]
  },
  {
   "cell_type": "markdown",
   "metadata": {},
   "source": [
    "On souhaite étudier la dispersion des mesures possibles pour la constante de temps."
   ]
  },
  {
   "cell_type": "markdown",
   "metadata": {},
   "source": [
    "On peut pour commencer prendre les cas extrêmes et donner un intervalle \"au pire\" :  \n",
    "valeur mini pour $\\tau $ = valeur mini pour $ R $ * valeur mini pour $C $  \n",
    "valeur maxi pour $\\tau $ = valeur maxi pour $ R $ * valeur maxi pour $C $\n"
   ]
  },
  {
   "cell_type": "markdown",
   "metadata": {},
   "source": [
    "<div class=\"alert alert-warning\" role=\"alert\">\n",
    "    <strong> Compléter le code ci-dessous pour déterminer la constante de temps : </strong> <br>\n",
    "    --> Compléter la fiche réponse.\n",
    "    \n",
    "</div>"
   ]
  },
  {
   "cell_type": "code",
   "execution_count": null,
   "metadata": {},
   "outputs": [],
   "source": [
    "mini = ?????\n",
    "maxi = ?????\n",
    "print(\"La constante de temps est comprise entre :\",mini,\" et : \",maxi,\" s\")"
   ]
  },
  {
   "cell_type": "markdown",
   "metadata": {},
   "source": [
    "Cependant ce calcul ne tient pas compte de la répartition des mesures autour de la valeur moyenne : ce n'est vraiment pas de chance de tomber (au hasard) sur les 2 valeurs mini ou les 2 valeurs maxi !  "
   ]
  },
  {
   "cell_type": "markdown",
   "metadata": {},
   "source": [
    "## 2 - Distribution triangulaire :"
   ]
  },
  {
   "cell_type": "markdown",
   "metadata": {},
   "source": [
    "<div class=\"alert alert-info\" role=\"alert\">\n",
    "  <strong>Travail à faire sur le notebook : </strong> <br>\n",
    "    Pour les cellules suivantes, appuyez sur shift et entrée pour lancer le code Python contenu chaque cellule\n",
    "</div>"
   ]
  },
  {
   "cell_type": "code",
   "execution_count": null,
   "metadata": {},
   "outputs": [],
   "source": [
    "import numpy as np\n",
    "from matplotlib import pyplot as plt\n",
    "%matplotlib inline"
   ]
  },
  {
   "cell_type": "markdown",
   "metadata": {},
   "source": [
    "Le code suivant permet de choisir une valeur au hasard entre 2 et 9 centré sur 5 avec une distribution triangulaire"
   ]
  },
  {
   "cell_type": "code",
   "execution_count": null,
   "metadata": {},
   "outputs": [],
   "source": [
    "tirage=np.random.triangular(2, 5, 9, 1)[0]\n",
    "tirage"
   ]
  },
  {
   "cell_type": "markdown",
   "metadata": {},
   "source": [
    "<div class=\"alert alert-warning\" role=\"alert\">\n",
    "    <strong> Modifier le code ci-dessous pour choisir une valeur au hasard entre R-∆R et R+∆R , centrée sur R et avec une distribution triangulaire : <br> </strong>\n",
    "    --> Compléter la fiche réponse.\n",
    "    \n",
    "</div>"
   ]
  },
  {
   "cell_type": "code",
   "execution_count": null,
   "metadata": {},
   "outputs": [],
   "source": [
    "R = 100.0 # valeur de la résistance en ohm\n",
    "U_R = 5.0 # incertitude sur la résistance\n",
    "tirage=np.random.triangular(      ,          ,      , 1)[0] # la fonction renvoie un tableau de 1 valeur au choix triangulaire entre R-∆R et R+∆R et centré sur R\n",
    "tirage  # pour afficher le contenu de cette variable"
   ]
  },
  {
   "cell_type": "markdown",
   "metadata": {},
   "source": [
    "On peut vérifier la distribution triangulaire :"
   ]
  },
  {
   "cell_type": "code",
   "execution_count": null,
   "metadata": {},
   "outputs": [],
   "source": [
    "plt.hist(np.random.triangular(R-U_R, R, R+U_R, 100000), bins=100,density=True)\n",
    "plt.xlabel('valeur de R (ohm)')\n",
    "plt.ylabel('effectif')\n",
    "plt.title(\"distribution triangulaire\")\n",
    "plt.show()"
   ]
  },
  {
   "cell_type": "markdown",
   "metadata": {},
   "source": [
    "On va maintenant mettre en oeuvre la méthode de Monte Carlo pour déterminer la valeur la plus probable de la constante de temps et la distribution correspondante :\n",
    "\n",
    "1) tirage au sort d'une valeur pour $R$ ,  \n",
    "2) tirage au sort d'une valeur pour $C$ ,  \n",
    "3) calcul de la constante de temps $\\tau = R \\times C$ ,  \n",
    "4) stockage de la valeur dans une liste,  \n",
    "5) recommencer plein de fois,  \n",
    "\n",
    "6) faire moyenne, écart-type pour étudier la dispersion des valeurs de la constante de temps.  \n"
   ]
  },
  {
   "cell_type": "markdown",
   "metadata": {},
   "source": [
    "<div class=\"alert alert-warning\" role=\"alert\">\n",
    "    <strong> Modifier le code ci-dessous pour mettre en oeuvre la méthode de Monte Carlo :  <br> </strong>\n",
    "    --> Compléter la fiche réponse.\n",
    "    \n",
    "</div>"
   ]
  },
  {
   "cell_type": "code",
   "execution_count": null,
   "metadata": {},
   "outputs": [],
   "source": [
    "R = 100.0 # valeur de la résistance en ohm\n",
    "U_R = 5.0 # incertitude sur la résistance\n",
    "C = 100.0E-6 # valeur de la capacité en farad\n",
    "U_C = 5.0E-6 # incertitude sur la capacité\n",
    "\n",
    "liste_tau=[]\n",
    "iteration = 100000\n",
    "\n",
    "for i in range(iteration):\n",
    "    essai_R = np.random.triangular(R-U_R,R, R+U_R, 1)[0]\n",
    "    essai_C = np.random.triangular(         ,         ,           , 1)[0]\n",
    "    liste_tau.append(                    ) # append pour ajouter une valeur à la liste\n",
    "\n",
    "moyenne_tau=sum(liste_tau)/iteration\n",
    "s=( 1/(iteration-1) * sum((np.array(liste_tau)-moyenne_tau)**2) )**0.5 # calcul de l'écart-type\n",
    "\n",
    "print(f\"La moyenne des constantes de temps vaut {moyenne_tau} s\")\n",
    "print(f\"L'incertitude-type vaut {s} s\") # c'est la même chose ici que l'écart-type car mesure unique\n",
    "print('Distribution des constantes de temps :')\n",
    "plt.hist(liste_tau, range = (moyenne_tau - 5 * s , moyenne_tau + 5 * s), bins = 50, color = 'blue', edgecolor = 'black')\n",
    "plt.xlabel('constante de temps (s)')\n",
    "plt.ylabel('effectif')\n",
    "plt.title('Pour {} itérations'.format(iteration))\n",
    "plt.show()"
   ]
  },
  {
   "cell_type": "markdown",
   "metadata": {},
   "source": [
    "On trouve alors une distribution gaussienne pour la constante de temps $\\tau $"
   ]
  },
  {
   "cell_type": "markdown",
   "metadata": {},
   "source": [
    "## 3 - Distribution gaussienne :"
   ]
  },
  {
   "cell_type": "markdown",
   "metadata": {},
   "source": [
    "On suppose ici une distribution gaussienne des valeurs autour de la valeur moyenne."
   ]
  },
  {
   "cell_type": "markdown",
   "metadata": {},
   "source": [
    "La fonction `np.random.normal()` permet de tirer une valeur au hasard avec une distribution gaussienne centrée sur 0 et d'écart-type 1."
   ]
  },
  {
   "cell_type": "code",
   "execution_count": null,
   "metadata": {},
   "outputs": [],
   "source": [
    "for i in range(10):\n",
    "    essai = np.random.normal()\n",
    "    print(essai)"
   ]
  },
  {
   "cell_type": "markdown",
   "metadata": {},
   "source": [
    "On commence par définir une fonction qui va donner une valeur aléatoire respectant une distibution normale centrée sur la moyenne et ayant la largeur correspondant à l'incertitude-type.  \n",
    "Les grandeurs seront des listes de 2 informations :  moyenne , incertitude-type ; la première à l"
   ]
  },
  {
   "cell_type": "code",
   "execution_count": null,
   "metadata": {},
   "outputs": [],
   "source": [
    "def Alea(grandeur):\n",
    "    tirage=np.random.normal()             # prend une valeur entre -inf et + inf avec une distribution de probabilité normale (gaussienne) d'écart-type 1\n",
    "    return grandeur[0]+grandeur[1]*tirage # renvoie une valeur aléatoire de la variable grandeur[0] d'incertitude-type grandeur[1]"
   ]
  },
  {
   "cell_type": "markdown",
   "metadata": {},
   "source": [
    "Voyons ce que cela donne pour la capacité :"
   ]
  },
  {
   "cell_type": "code",
   "execution_count": null,
   "metadata": {},
   "outputs": [],
   "source": [
    "capacite = [C , U_C/2]         # on divise l'incertitude constructeur par 2 pour avoir l'incertitude-type : u = U/2\n",
    "for i in range(10):\n",
    "    print (Alea(capacite) ) "
   ]
  },
  {
   "cell_type": "markdown",
   "metadata": {},
   "source": [
    "On peut tracer l'allure de cette distribution : "
   ]
  },
  {
   "cell_type": "code",
   "execution_count": null,
   "metadata": {},
   "outputs": [],
   "source": [
    "liste_C_MC=[]\n",
    "iteration = 50000\n",
    "\n",
    "for i in range(iteration):\n",
    "    essai=Alea(capacite)\n",
    "    liste_C_MC.append(essai)\n",
    "\n",
    "moyenne_C=sum(liste_C_MC)/iteration\n",
    "s=( 1/(iteration-1) * sum((np.array(liste_C_MC)-moyenne_C)**2) )**0.5\n",
    "\n",
    "print(f\"La moyenne des capacités vaut {moyenne_C} F\")\n",
    "print(f\"L'incertitude-type vaut {s} F\") # c'est la même chose ici que l'écart-type car mesure unique, on étudie ici la dispersion des valeurs possibles\n",
    "print('Distribution des capacités :')\n",
    "plt.hist(liste_C_MC, range = (moyenne_C - 5 * s , moyenne_C + 5 * s), bins = 50, color = 'blue', edgecolor = 'black')\n",
    "plt.xlabel('capacité (F)')\n",
    "plt.ylabel('effectif')\n",
    "plt.title('Pour {} itérations'.format(iteration))\n",
    "plt.show()"
   ]
  },
  {
   "cell_type": "markdown",
   "metadata": {},
   "source": [
    "La méthode de Monte Carlo consiste à faire le calcul de la constante de temps du circuit RC pour un grand nombre de valeurs de R et de C piochées aléatoirement  \n",
    "pour R et pour C.  \n",
    "Ensuite on fait la moyenne et l'écart-type sur les données obtenues afin d'obtenir l'incertitude-type sur la constante de temps.\n"
   ]
  },
  {
   "cell_type": "code",
   "execution_count": null,
   "metadata": {},
   "outputs": [],
   "source": [
    "capacite = [?????????,?????????]\n",
    "resistance = [?????????,?????????]\n",
    "\n",
    "\n",
    "liste_tau_MC=[]\n",
    "iteration = 80000\n",
    "\n",
    "for i in range(iteration):\n",
    "    essai=Alea(?????????)*Alea(?????????) \n",
    "    liste_tau_MC.append(essai)\n",
    "\n",
    "moyenne_tau=sum(liste_tau_MC)/iteration \n",
    "u_tau=(1/(iteration-1)*sum((np.array(liste_tau_MC)-moyenne_tau)**2.))**0.5 \n",
    "\n",
    "print(f\"La moyenne des constantes de temps vaut {moyenne_tau}\")\n",
    "print(f\"L'incertitude-type sur la constante de temps vaut {u_tau}\")\n",
    "print('Distribution des constantes de temps :')\n",
    "plt.hist(liste_tau_MC, range = (moyenne_tau - 5 * u_tau , moyenne_tau + 5 * u_tau), bins = 50, color = 'blue', edgecolor = 'black')\n",
    "plt.xlabel('constante de temps (s)')\n",
    "plt.ylabel('effectif')\n",
    "plt.title('Pour {} itérations'.format(iteration))\n",
    "plt.show()"
   ]
  },
  {
   "cell_type": "markdown",
   "metadata": {},
   "source": [
    "On obtient alors la constante de temps et son incertitude-type qui donne un intervalle de confiance à 68%.  \n",
    "68% des valeurs sont comprise entre moyenne -u et moyenne +u.\n",
    "\n"
   ]
  }
 ],
 "metadata": {
  "kernelspec": {
   "display_name": "Python 3",
   "language": "python",
   "name": "python3"
  },
  "language_info": {
   "codemirror_mode": {
    "name": "ipython",
    "version": 3
   },
   "file_extension": ".py",
   "mimetype": "text/x-python",
   "name": "python",
   "nbconvert_exporter": "python",
   "pygments_lexer": "ipython3",
   "version": "3.7.9"
  }
 },
 "nbformat": 4,
 "nbformat_minor": 4
}
