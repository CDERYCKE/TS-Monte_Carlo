{
 "cells": [
  {
   "cell_type": "markdown",
   "metadata": {},
   "source": [
    "# Utilisation de la méthode de Monte Carlo pour évaluer l'incertitude sur un titrage"
   ]
  },
  {
   "cell_type": "raw",
   "metadata": {},
   "source": [
    "Pour évaluer l'incertitude sur un résultat, il existe plusieurs méthodes :\n",
    "\n",
    "1) étude statistique : (type A) on effectue plisueurs fois la même expérience et on colmbine les réusltats pour calculer moyenne, écart-type puis incertitude-type.\n",
    "\n",
    "2) étude sur une mesure unique (type B) : on évalue les incertitudes liées à chaque étape et à chaque grandeur intervenant dans l'obtention du résultat final. Des formules mathématiques permettent de donner un résultat accomapgné de son incertitude-type\n",
    "\n",
    "3) méthode de Monte-Carlo : on effectue des tirages au sort de valeurs probables compte tenu de l'incertitude pour chaque grandeur et on les combine pour obtenir le résultat final accomapgné de son incertitude-type.\n"
   ]
  },
  {
   "cell_type": "markdown",
   "metadata": {},
   "source": [
    "# 1- Résultat du titrage \n",
    "On rentre ici les mesures, les données et leurs incertitudes.  \n",
    "Il s'agit du dosage de 10,0 mL de vinaigre dilué 10 fois par une solution de soude de concentration 0,10 mol/L. Le volume équivalent est obtenu avec le saut de pH et vaut 13,4 mL  \n"
   ]
  },
  {
   "cell_type": "markdown",
   "metadata": {},
   "source": [
    "<div class=\"alert alert-info\" role=\"alert\">\n",
    "  <strong>Travail à faire sur le notebook : </strong> <br>\n",
    "    --> Compléter avec les valeurs manquantes  <br>\n",
    "    --> Pour les cellules suivantes, appuyez sur shift entrée pour lancer le code Python contenu chaque cellule\n",
    "</div>"
   ]
  },
  {
   "cell_type": "code",
   "execution_count": null,
   "metadata": {},
   "outputs": [],
   "source": [
    "CB =  ??? # valeur de la concentration de la solution de base titrante en mol/L\n",
    "u_CB = 0.05E-1 # incertitude sur la concentration de la solution de base titrante \n",
    "VBE =  ??? # valeur du volume équivalent en litre\n",
    "u_VBE = 1.0E-3 # incertitude sur le volume équivalent\n",
    "VA= ??? # valeur du volume de slution titrée en litre\n",
    "u_VA = 0.5E-3 # incertitude sur le volume de solution titrée\n"
   ]
  },
  {
   "cell_type": "markdown",
   "metadata": {},
   "source": [
    "La concentration en acide éthanoïque dans le vinaigre est obtenue par le calcul suivant (tenant compte de la dilution) :\n",
    "$$ C_A=10\\times \\frac{C_B \\times V_{BE}}{V_A} $$"
   ]
  },
  {
   "cell_type": "markdown",
   "metadata": {},
   "source": [
    "<div class=\"alert alert-info\" role=\"alert\">\n",
    "  <strong>Travail à faire sur le notebook : </strong> <br>\n",
    "    --> Compléter avec la formule manquante  <br>\n",
    "    --> Appuyez sur shift entrée pour lancer le code Python contenu chaque cellule\n",
    "</div>"
   ]
  },
  {
   "cell_type": "code",
   "execution_count": null,
   "metadata": {},
   "outputs": [],
   "source": [
    "CA="
   ]
  },
  {
   "cell_type": "code",
   "execution_count": null,
   "metadata": {},
   "outputs": [],
   "source": [
    "print (\"la concentration en acide éthanoïque dans le vinaigre vaut :\", CA, \" mol/L\")"
   ]
  },
  {
   "cell_type": "markdown",
   "metadata": {},
   "source": [
    "Normalement, ce n'était pas trop dur :-)"
   ]
  },
  {
   "cell_type": "markdown",
   "metadata": {},
   "source": [
    "# 2 - Distribution gaussienne des valeurs"
   ]
  },
  {
   "cell_type": "markdown",
   "metadata": {},
   "source": [
    "La distribution gaussienne est très fréquente pour illuster la dispersion des mesures possibles autour d'une valeur et compte tenu d'une incertitude-type."
   ]
  },
  {
   "cell_type": "markdown",
   "metadata": {},
   "source": [
    "<div class=\"alert alert-info\" role=\"alert\">\n",
    "  <strong>Travail à faire sur le notebook : </strong> <br>\n",
    "    Pour les cellules suivantes, appuyez sur shift entrée pour lancer le code Python contenu chaque cellule\n",
    "</div>"
   ]
  },
  {
   "cell_type": "code",
   "execution_count": null,
   "metadata": {},
   "outputs": [],
   "source": [
    "import numpy as np # pour le travail sur des tableaux de nombres (array)\n",
    "from matplotlib import pyplot as plt # pour les graphiques\n",
    "%matplotlib inline"
   ]
  },
  {
   "cell_type": "markdown",
   "metadata": {},
   "source": [
    "Le code suivant permet de choisir une valeur au hasard entre -1 et 1"
   ]
  },
  {
   "cell_type": "markdown",
   "metadata": {},
   "source": [
    "La fonction `np.random.normal()` permet de tirer une valeur au hasard avec une distribution gaussienne centrée sur 0 et d'écart-type 1."
   ]
  },
  {
   "cell_type": "code",
   "execution_count": null,
   "metadata": {},
   "outputs": [],
   "source": [
    "tirage=np.random.normal()\n",
    "tirage"
   ]
  },
  {
   "cell_type": "code",
   "execution_count": null,
   "metadata": {},
   "outputs": [],
   "source": [
    "for i in range(10):\n",
    "    essai = np.random.normal()\n",
    "    print(essai)"
   ]
  },
  {
   "cell_type": "markdown",
   "metadata": {},
   "source": [
    "On peut vérifier la distribution gaussienne : le code suivant permet de récupérer un tableau de 100 valeurs de valeur centrale 0 et d'écart-type 1"
   ]
  },
  {
   "cell_type": "code",
   "execution_count": null,
   "metadata": {},
   "outputs": [],
   "source": [
    "tirage=np.random.normal(loc=0,scale=1, size=100)\n",
    "tirage"
   ]
  },
  {
   "cell_type": "markdown",
   "metadata": {},
   "source": [
    "On peut alors tracer l'histogramme correspondant :"
   ]
  },
  {
   "cell_type": "code",
   "execution_count": null,
   "metadata": {},
   "outputs": [],
   "source": [
    "tirage=np.random.normal(loc=0,scale=1, size=10000) #pour avoir 10000 valeurs\n",
    "\n",
    "\n",
    "plt.hist(tirage,  bins = 50, color = 'blue', edgecolor = 'black')\n",
    "plt.xlabel('nombre')\n",
    "plt.ylabel('effectif')\n",
    "plt.show()"
   ]
  },
  {
   "cell_type": "markdown",
   "metadata": {},
   "source": [
    "On va définir une fonction qui va donner une valeur aléatoire respectant une distibution normale centrée sur la moyenne et ayant la largeur correspondant à l'incertitude-type.  "
   ]
  },
  {
   "cell_type": "code",
   "execution_count": null,
   "metadata": {},
   "outputs": [],
   "source": [
    "def Alea(moyenne, incertitude):\n",
    "    tirage=np.random.normal()             # prend une valeur entre -inf et + inf avec une distribution de probabilité normale (gaussienne) d'écart-type 1\n",
    "    return moyenne+incertitude*tirage     # renvoie une valeur aléatoire avec la moyenne et l'incertitude-type fournie\n"
   ]
  },
  {
   "cell_type": "code",
   "execution_count": null,
   "metadata": {},
   "outputs": [],
   "source": [
    "essai_VBE=Alea (VBE,u_VBE)\n",
    "print (\"La valeur du volume de base à l'équivalence vaut :\", round(essai_VBE*1000,1), \"en mL\") # conversion en mL"
   ]
  },
  {
   "cell_type": "markdown",
   "metadata": {},
   "source": [
    "Le nombre obtenu est ainsi une valeur possible du volume équivalent $V_{BE}$ compte tenu de l'incertitude de la méthode."
   ]
  },
  {
   "cell_type": "markdown",
   "metadata": {},
   "source": [
    "# 3- Mise en oeuvre de la Méthode de Monte Carlo"
   ]
  },
  {
   "cell_type": "markdown",
   "metadata": {},
   "source": [
    "On va maintenant mettre en oeuvre la méthode de Monte Carlo pour déterminer la valeur la plus probable de la concentration du vinaigre et la distribution correspondante :\n",
    "\n",
    "1) tirage au sort d'une valeur pour $C_B$ ,  \n",
    "2) tirage au sort d'une valeur pour $V_{BE}$ ,  \n",
    "3) tirage au sort d'une valeur pour $V_A$ ,  \n",
    "4) calcul de la concentration du vinaigre : $C_A$,  \n",
    "5) stockage de la valeur dans une liste,  \n",
    "6) recommencer plein de fois,  \n",
    "\n",
    "7) faire les calculs statistiques : moyenne, écart-type pour étudier la dispersion des valeurs de la concentration.  \n"
   ]
  },
  {
   "cell_type": "markdown",
   "metadata": {},
   "source": [
    "<div class=\"alert alert-info\" role=\"alert\">\n",
    "  <strong>Travail à faire sur le notebook : </strong> <br>\n",
    "    --> Pour les cellules suivantes, appuyez sur shift entrée pour lancer le code Python contenu chaque cellule <br>\n",
    "    --> Modifier le code ci-dessous pour mettre en oeuvre la méthode de Monte Carlo :  <br>\n",
    "</div>"
   ]
  },
  {
   "cell_type": "code",
   "execution_count": null,
   "metadata": {},
   "outputs": [],
   "source": [
    "# à compléter\n",
    "liste_CA=[] # crée une liste vide pour stocker les valeurs de CA\n",
    "iteration = 10000\n",
    "\n",
    "for i in range(iteration):\n",
    "    essai_CB =  Alea(CB,u_CB) # tire au sort une valeur de la concentration CB\n",
    "    essai_VBE = Alea( ??? , ??? ) # tire au sort une valeur du volume équivalent\n",
    "    essai_VA = ??????? # tire au sort une valeur du volume VA\n",
    "    liste_CA.append(  10*essai_CB*essai_VBE/essai_VA                  ) # append pour ajouter une valeur de concentration calculée à la liste des essais\n",
    "\n",
    "moyenne_CA=sum(liste_CA)/iteration\n",
    "s=( 1/(iteration-1) * sum((np.array(liste_CA)-moyenne_CA)**2) )**0.5 # calcul de l'écart-type\n",
    "\n",
    "print(f\"La moyenne des concentrations pour le vinaigre vaut {moyenne_CA} mol/L\")\n",
    "print(f\"L'incertitude-type vaut {s} mol/L\") # c'est la même chose ici que l'écart-type car mesure unique\n",
    "print('Distribution des concentrations obtenues :')\n",
    "plt.hist(liste_CA, range = (moyenne_CA - 5 * s , moyenne_CA + 5 * s), bins = 50, color = 'blue', edgecolor = 'black')\n",
    "plt.xlabel('Concentration du vinaigre (mol/L)')\n",
    "plt.ylabel('effectif')\n",
    "plt.title('Pour {} itérations'.format(iteration))\n",
    "plt.show()"
   ]
  },
  {
   "cell_type": "markdown",
   "metadata": {},
   "source": [
    "On peut alors terminer l'étude avec un calcul du $z-score$ : $z-score = \\frac{\\overline{C_A}-C_{A \\space reference}}{u(C_A)}$"
   ]
  },
  {
   "cell_type": "code",
   "execution_count": null,
   "metadata": {},
   "outputs": [],
   "source": [
    "# à compléter \n",
    "CA_ref= 1.33 # concentration théorique en CH3COOH d'un vinaigre à 8°\n",
    "u_CA=s\n",
    "z= ???\n",
    "print(\"le z-score vaut :\", round(z,2) )"
   ]
  },
  {
   "cell_type": "markdown",
   "metadata": {},
   "source": [
    "</div>\n",
    "<div class=\"alert alert-success\" role=\"alert\">\n",
    "  Le travail est terminé ! Bravo !\n",
    "</div>"
   ]
  },
  {
   "cell_type": "markdown",
   "metadata": {},
   "source": [
    "Vous voulez vous entrainer : modifier le code ci-dessous pour prendre en compte les incertitudes liées à la dilution lors de la préparation de la solution diluée  \n",
    "10 fois avec le vinaigre.  \n",
    "Le facteur pour tenir compte de la dilution n'est pas parfaitement égal à 10 mais dépend de la verrerie utilisée !  \n",
    "On a alors à multiplier par : $ \\frac{V_{fille}}{V_{mere}}$\n",
    "\n",
    "On utilise :  \n",
    "* une pipette jaugée de 10,0 mL de tolérance $t=0,02 \\space mL$ et donc d'incertitude-type sur le volume de solution mère : $u_{} = \\frac{t}{\\sqrt{3}} = ... $\n",
    "* une fiole jaugée de 100,0 mL de tolérance $t=0,08 \\space mL$ et donc d'incertitude-type sur le volume de solution mère : $u_{} = \\frac{t}{\\sqrt{3}} = ... $"
   ]
  },
  {
   "cell_type": "code",
   "execution_count": null,
   "metadata": {},
   "outputs": [],
   "source": [
    "# à compléter \n",
    "\n",
    "CB = 1.0E-1 # valeur de la concentration de la solution de base titrante en mol/L\n",
    "u_CB = 0.05E-1 # incertitude sur la concentration de la solution de base titrante \n",
    "VBE = 13.5E-3 # valeur du volume équivalent en litre\n",
    "u_VBE = 1.0E-3 # incertitude sur le volume équivalent\n",
    "VA=10.0E-3 # valeur du volume de slution titrée en litre\n",
    "u_VA = 0.5E-3 # incertitude sur le volume de solution titrée\n",
    "\n",
    "Vmere = 10.0\n",
    "u_Vmere = 0.02/1.732 # 1.732 = racine de 3\n",
    "\n",
    "Vfille = 100.0\n",
    "u_Vfille = 0.08/1.732 # 1.732 = racine de 3\n",
    "\n",
    "\n",
    "liste_CA=[] # crée une liste vide pour stocker les valeurs de CA\n",
    "iteration = 10000\n",
    "\n",
    "for i in range(iteration):\n",
    "    essai_CB =  Alea(CB,u_CB) # tire au sort une valeur de la concentration CB\n",
    "    essai_VBE = Alea(VBE,u_VBE) # tire au sort une valeur du volume équivalent\n",
    "    essai_VA = Alea(VA,u_VA) # tire au sort une valeur du volume VA\n",
    "    essai_Vmere = Alea(Vmere,u_Vmere) # tire au sort une valeur du volume Vmere prélevé à la pipette jaugée\n",
    "    essai_Vfille = Alea(Vfille,u_Vfille) # tire au sort une valeur du volume Vfille de la fiole jaugée utilisée lors de la dilution\n",
    "    \n",
    "    liste_CA.append(  essai_Vfille/essai_Vmere*essai_CB*essai_VBE/essai_VA                  ) # append pour ajouter une valeur de concentration calculée à la liste des essais\n",
    "\n",
    "moyenne_CA=sum(liste_CA)/iteration\n",
    "s=( 1/(iteration-1) * sum((np.array(liste_CA)-moyenne_CA)**2) )**0.5 # calcul de l'écart-type\n",
    "\n",
    "print(f\"La moyenne des concentrations pour le vinaigre vaut {moyenne_CA:.2f} mol/L\")\n",
    "print(f\"L'incertitude-type vaut {s:.2f} mol/L\") # c'est la même chose ici que l'écart-type car mesure unique\n",
    "print('Distribution des concentrations obtenues :')\n",
    "plt.hist(liste_CA, range = (moyenne_CA - 5 * s , moyenne_CA + 5 * s), bins = 50, color = 'blue', edgecolor = 'black')\n",
    "plt.xlabel('Concentration du vinaigre (mol/L)')\n",
    "plt.ylabel('effectif')\n",
    "plt.title('Pour {} itérations'.format(iteration))\n",
    "plt.show()"
   ]
  },
  {
   "cell_type": "markdown",
   "metadata": {},
   "source": [
    "</div>\n",
    "<div class=\"alert alert-success\" role=\"alert\">\n",
    "  Là c'est vraiment terminé ! Bravissimo !\n",
    "</div>"
   ]
  },
  {
   "cell_type": "markdown",
   "metadata": {},
   "source": [
    "Mais en fait c'est plus subtil que cela : nous avons utilisé une distribution gaussienne partour mais en pratique on utilise différetens distributions.  \n",
    "Selon l'age de la verrerie, le type de matériel, le type de méthode, on chosit une distribution adaptée.\n",
    "\n",
    "distribution rectangulaire : lecture mini maxi sur appareil de mesure numérique (balance) ou sur un banc d'optique par exemple  \n",
    "distribution triangulaire : lecture mini maxi mais probabilité plus forte d'être au milieu de l'intervalle\n",
    "distribution gaussienne : "
   ]
  },
  {
   "cell_type": "code",
   "execution_count": null,
   "metadata": {},
   "outputs": [],
   "source": [
    "plt.hist(np.random.triangular(VA-u_VA, VA, VA+u_VA, 100000), bins=100,density=True)\n",
    "plt.xlabel('valeur de VA (L)')\n",
    "plt.ylabel('effectif')\n",
    "plt.title(\"distribution triangulaire\")\n",
    "plt.show()"
   ]
  },
  {
   "cell_type": "code",
   "execution_count": null,
   "metadata": {},
   "outputs": [],
   "source": [
    "plt.hist(np.random.uniform(CB-u_CB,  CB+u_CB, 100000), bins=100,density=True)\n",
    "plt.xlabel('valeur de CB (mol/L)')\n",
    "plt.ylabel('effectif')\n",
    "plt.title(\"distribution triangulaire\")\n",
    "plt.show()"
   ]
  },
  {
   "cell_type": "markdown",
   "metadata": {},
   "source": [
    "Il faudrait donc tenir compte de cela pour combiner les différentes incertidues avec la méthode de Monte Carlo.  \n",
    "Nous n'avons pas non plus tenu compte d'incertitudes éventuelles liées à l'expérimentateur, à la température dans la salle, ... \n",
    "L'incertitude de méthode sur la détemrination du volume équivalent a été estimé à 1 mL à l'instinct..."
   ]
  }
 ],
 "metadata": {
  "kernelspec": {
   "display_name": "Python 3",
   "language": "python",
   "name": "python3"
  },
  "language_info": {
   "codemirror_mode": {
    "name": "ipython",
    "version": 3
   },
   "file_extension": ".py",
   "mimetype": "text/x-python",
   "name": "python",
   "nbconvert_exporter": "python",
   "pygments_lexer": "ipython3",
   "version": "3.7.9"
  }
 },
 "nbformat": 4,
 "nbformat_minor": 5
}
